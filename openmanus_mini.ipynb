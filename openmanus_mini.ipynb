{
 "cells": [
  {
   "cell_type": "code",
   "execution_count": 3,
   "metadata": {},
   "outputs": [],
   "source": [
    "import openmanus_mini\n",
    "# LLM config\n",
    "llm_config = {\n",
    "    \"model\": \"claude-3-5-sonnet\",\n",
    "    \"base_url\": \"https://api.openai.com/v1\",\n",
    "    \"api_key\": \"sk-...\",\n",
    "    \"max_tokens\": 4096,\n",
    "    \"temperature\": 0.0\n",
    "}\n",
    "agent = openmanus_mini.Manus(config=llm_config)\n",
    "\n",
    "prompt = \"What was the actual enrollment count of the clinical trial on H. pylori in acne vulgaris patients from Jan-May 2018 as listed on the NIH website?\"\n",
    "await agent.run(prompt)\n"
   ]
  },
  {
   "cell_type": "markdown",
   "metadata": {},
   "source": [
    "## Tool Definitions"
   ]
  },
  {
   "cell_type": "code",
   "execution_count": 11,
   "metadata": {},
   "outputs": [],
   "source": [
    "from app.tool import Terminate, ToolCollection, BrowserUseTool, FileSaver, GoogleSearch, PythonExecute\n",
    "available_tools = ToolCollection(PythonExecute(), GoogleSearch(), BrowserUseTool(), FileSaver(), Terminate())"
   ]
  },
  {
   "cell_type": "code",
   "execution_count": 12,
   "metadata": {},
   "outputs": [
    {
     "data": {
      "text/plain": [
       "[{'type': 'function',\n",
       "  'function': {'name': 'python_execute',\n",
       "   'description': 'Executes Python code string. Note: Only print outputs are visible, function return values are not captured. Use print statements to see results.',\n",
       "   'parameters': {'type': 'object',\n",
       "    'properties': {'code': {'type': 'string',\n",
       "      'description': 'The Python code to execute.'}},\n",
       "    'required': ['code']}}},\n",
       " {'type': 'function',\n",
       "  'function': {'name': 'google_search',\n",
       "   'description': 'Perform a Google search and return a list of relevant links.\\nUse this tool when you need to find information on the web, get up-to-date data, or research specific topics.\\nThe tool returns a list of URLs that match the search query.\\n',\n",
       "   'parameters': {'type': 'object',\n",
       "    'properties': {'query': {'type': 'string',\n",
       "      'description': '(required) The search query to submit to Google.'},\n",
       "     'num_results': {'type': 'integer',\n",
       "      'description': '(optional) The number of search results to return. Default is 10.',\n",
       "      'default': 10}},\n",
       "    'required': ['query']}}},\n",
       " {'type': 'function',\n",
       "  'function': {'name': 'browser_use',\n",
       "   'description': \"\\nInteract with a web browser to perform various actions such as navigation, element interaction,\\ncontent extraction, and tab management. Supported actions include:\\n- 'navigate': Go to a specific URL\\n- 'click': Click an element by index\\n- 'input_text': Input text into an element\\n- 'screenshot': Capture a screenshot\\n- 'get_html': Get page HTML content\\n- 'execute_js': Execute JavaScript code\\n- 'scroll': Scroll the page\\n- 'switch_tab': Switch to a specific tab\\n- 'new_tab': Open a new tab\\n- 'close_tab': Close the current tab\\n- 'refresh': Refresh the current page\\n\",\n",
       "   'parameters': {'type': 'object',\n",
       "    'properties': {'action': {'type': 'string',\n",
       "      'enum': ['navigate',\n",
       "       'click',\n",
       "       'input_text',\n",
       "       'screenshot',\n",
       "       'get_html',\n",
       "       'execute_js',\n",
       "       'scroll',\n",
       "       'switch_tab',\n",
       "       'new_tab',\n",
       "       'close_tab',\n",
       "       'refresh'],\n",
       "      'description': 'The browser action to perform'},\n",
       "     'url': {'type': 'string',\n",
       "      'description': \"URL for 'navigate' or 'new_tab' actions\"},\n",
       "     'index': {'type': 'integer',\n",
       "      'description': \"Element index for 'click' or 'input_text' actions\"},\n",
       "     'text': {'type': 'string', 'description': \"Text for 'input_text' action\"},\n",
       "     'script': {'type': 'string',\n",
       "      'description': \"JavaScript code for 'execute_js' action\"},\n",
       "     'scroll_amount': {'type': 'integer',\n",
       "      'description': \"Pixels to scroll (positive for down, negative for up) for 'scroll' action\"},\n",
       "     'tab_id': {'type': 'integer',\n",
       "      'description': \"Tab ID for 'switch_tab' action\"}},\n",
       "    'required': ['action'],\n",
       "    'dependencies': {'navigate': ['url'],\n",
       "     'click': ['index'],\n",
       "     'input_text': ['index', 'text'],\n",
       "     'execute_js': ['script'],\n",
       "     'switch_tab': ['tab_id'],\n",
       "     'new_tab': ['url'],\n",
       "     'scroll': ['scroll_amount']}}}},\n",
       " {'type': 'function',\n",
       "  'function': {'name': 'file_saver',\n",
       "   'description': 'Save content to a local file at a specified path.\\nUse this tool when you need to save text, code, or generated content to a file on the local filesystem.\\nThe tool accepts content and a file path, and saves the content to that location.\\n',\n",
       "   'parameters': {'type': 'object',\n",
       "    'properties': {'content': {'type': 'string',\n",
       "      'description': '(required) The content to save to the file.'},\n",
       "     'file_path': {'type': 'string',\n",
       "      'description': '(required) The path where the file should be saved, including filename and extension.'},\n",
       "     'mode': {'type': 'string',\n",
       "      'description': \"(optional) The file opening mode. Default is 'w' for write. Use 'a' for append.\",\n",
       "      'enum': ['w', 'a'],\n",
       "      'default': 'w'}},\n",
       "    'required': ['content', 'file_path']}}},\n",
       " {'type': 'function',\n",
       "  'function': {'name': 'terminate',\n",
       "   'description': 'Terminate the interaction when the request is met OR if the assistant cannot proceed further with the task.',\n",
       "   'parameters': {'type': 'object',\n",
       "    'properties': {'status': {'type': 'string',\n",
       "      'description': 'The finish status of the interaction.',\n",
       "      'enum': ['success', 'failure']}},\n",
       "    'required': ['status']}}}]"
      ]
     },
     "execution_count": 12,
     "metadata": {},
     "output_type": "execute_result"
    }
   ],
   "source": [
    "available_tools.to_params()\n",
    "\n",
    "\n",
    "{\n",
    "    'type': 'function',\n",
    "    'function': \n",
    "    {\n",
    "        'name': 'python_execute',\n",
    "        'description': 'Executes Python code string. Note: Only print outputs are visible, function return values are not captured. Use print statements to see results.',\n",
    "        'parameters': \n",
    "        {\n",
    "            'type': 'object',\n",
    "            'properties': \n",
    "            {\n",
    "                'code': \n",
    "                {\n",
    "                    'type': 'string',\n",
    "                    'description': 'The Python code to execute.'\n",
    "                }\n",
    "            },\n",
    "            'required': ['code']\n",
    "        }\n",
    "    }\n",
    "}"
   ]
  },
  {
   "cell_type": "code",
   "execution_count": null,
   "metadata": {},
   "outputs": [],
   "source": []
  }
 ],
 "metadata": {
  "kernelspec": {
   "display_name": "open_manus",
   "language": "python",
   "name": "python3"
  },
  "language_info": {
   "codemirror_mode": {
    "name": "ipython",
    "version": 3
   },
   "file_extension": ".py",
   "mimetype": "text/x-python",
   "name": "python",
   "nbconvert_exporter": "python",
   "pygments_lexer": "ipython3",
   "version": "3.12.9"
  }
 },
 "nbformat": 4,
 "nbformat_minor": 2
}
