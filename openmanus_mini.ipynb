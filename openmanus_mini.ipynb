{
 "cells": [
  {
   "cell_type": "code",
   "execution_count": 3,
   "metadata": {},
   "outputs": [],
   "source": [
    "import openmanus_mini\n",
    "# LLM config\n",
    "llm_config = {\n",
    "    \"model\": \"claude-3-5-sonnet\",\n",
    "    \"base_url\": \"https://api.openai.com/v1\",\n",
    "    \"api_key\": \"sk-...\",\n",
    "    \"max_tokens\": 4096,\n",
    "    \"temperature\": 0.0\n",
    "}\n",
    "agent = openmanus_mini.Manus(config=llm_config)\n",
    "\n",
    "prompt = \"What was the actual enrollment count of the clinical trial on H. pylori in acne vulgaris patients from Jan-May 2018 as listed on the NIH website?\"\n",
    "await agent.run(prompt)\n"
   ]
  }
 ],
 "metadata": {
  "kernelspec": {
   "display_name": "open_manus",
   "language": "python",
   "name": "python3"
  },
  "language_info": {
   "codemirror_mode": {
    "name": "ipython",
    "version": 3
   },
   "file_extension": ".py",
   "mimetype": "text/x-python",
   "name": "python",
   "nbconvert_exporter": "python",
   "pygments_lexer": "ipython3",
   "version": "3.12.9"
  }
 },
 "nbformat": 4,
 "nbformat_minor": 2
}
